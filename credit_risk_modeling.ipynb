{
 "cells": [
  {
   "cell_type": "markdown",
   "metadata": {},
   "source": [
    "We will create 3 different models:\n",
    "1. PD (Probability of Default) - showing a customer not repaying their debt in full or on time.\n",
    "2. LGD (Loss Given Default) - showing the proportion of an exposure a company loses when a customer defaults.\n",
    "The proportion of the total exposure that cannot be recovered by the lender once a default has occured.\n",
    "3. EAD (Expoosure at Default) - showing the total loss in terms of amount of money the bank is exposed to if a customer defaults.\n",
    "\n",
    "EL (expected loss) = PD * LGD * EAD"
   ]
  },
  {
   "cell_type": "markdown",
   "metadata": {},
   "source": [
    "Estimating expected loss (expected credit loss)\n",
    "Definition: The amount a lender might lose by lending to a borrower"
   ]
  },
  {
   "cell_type": "code",
   "execution_count": null,
   "metadata": {},
   "outputs": [],
   "source": []
  }
 ],
 "metadata": {
  "language_info": {
   "name": "python"
  }
 },
 "nbformat": 4,
 "nbformat_minor": 2
}
