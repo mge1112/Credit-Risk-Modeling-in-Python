{
 "cells": [
  {
   "cell_type": "markdown",
   "metadata": {},
   "source": [
    "We will create 3 different models:\n",
    "- PD (Probability of Default) - showing a customer not repaying their debt in full or on time.\n",
    "- LGD (Loss Given Default) - showing the proportion of an exposure a company loses when a customer defaults.\n",
    "The proportion of the total exposure that cannot be recovered by the lender once a default has occured.\n",
    "- EAD (Expoosure at Default) - showing the total loss in terms of amount of money the bank is exposed to if a customer defaults.\n",
    "\n",
    "EL (expected loss) = PD * LGD * EAD"
   ]
  },
  {
   "cell_type": "markdown",
   "metadata": {},
   "source": [
    "Estimating expected loss (expected credit loss)\n",
    "Definition: The amount a lender might lose by lending to a borrower"
   ]
  },
  {
   "cell_type": "markdown",
   "metadata": {},
   "source": [
    "Basel II Accord prescribes that regulators should allow banks to choose from 3 different approaches for calculating or modeling credit risk (calculating or modeling each of the 3 components of the expected loss):\n",
    "- standardized approach (SA)\n",
    "- internal ratings based (IRB) approaches\n",
    "    - foundation internal ratings based (F-IRB) approach\n",
    "    - advanced internal ratings based (A-IRB) approach"
   ]
  },
  {
   "cell_type": "markdown",
   "metadata": {},
   "source": [
    "In this project, we are going to focus on the general case:\n",
    "Enough data are available for implementing a traditional statistical methodology to build credit risk models."
   ]
  },
  {
   "cell_type": "code",
   "execution_count": null,
   "metadata": {},
   "outputs": [],
   "source": []
  },
  {
   "cell_type": "code",
   "execution_count": null,
   "metadata": {},
   "outputs": [],
   "source": []
  }
 ],
 "metadata": {
  "language_info": {
   "name": "python"
  }
 },
 "nbformat": 4,
 "nbformat_minor": 2
}
